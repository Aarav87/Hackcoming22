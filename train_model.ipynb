{
  "nbformat": 4,
  "nbformat_minor": 0,
  "metadata": {
    "colab": {
      "provenance": [],
      "authorship_tag": "ABX9TyPq8I2IzxSOo/5VD9lzg4Zv"
    },
    "kernelspec": {
      "name": "python3",
      "display_name": "Python 3"
    },
    "language_info": {
      "name": "python"
    }
  },
  "cells": [
    {
      "cell_type": "code",
      "source": [
        "# Import libraries\n",
        "import pandas as pd\n",
        "from matplotlib import pyplot as pyplot\n",
        "from sklearn.preprocessing import LabelEncoder\n",
        "from sklearn.ensemble import RandomForestClassifier\n",
        "from sklearn.model_selection import train_test_split\n",
        "from sklearn import metrics\n",
        "import numpy as np\n",
        "import pickle"
      ],
      "metadata": {
        "id": "_Fc1O6NMbw6M"
      },
      "execution_count": 51,
      "outputs": []
    },
    {
      "cell_type": "code",
      "source": [
        "# Read datasets\n",
        "train_df = pd.read_csv(\"Training.csv\")\n",
        "test_df = pd.read_csv(\"Testing.csv\")"
      ],
      "metadata": {
        "id": "e3Tk56bYb8LZ"
      },
      "execution_count": null,
      "outputs": []
    },
    {
      "cell_type": "code",
      "source": [
        "# Remove unnessary columns\n",
        "train_df.drop(columns='Unnamed: 133', inplace=True)"
      ],
      "metadata": {
        "id": "hGl8fHmVyhsl"
      },
      "execution_count": null,
      "outputs": []
    },
    {
      "cell_type": "code",
      "source": [
        "# Convert prognosis to numerical values\n",
        "label = LabelEncoder()\n",
        "train_df['prognosis'] = label.fit_transform(train_df['prognosis'])\n",
        "test_df['prognosis'] = label.fit_transform(test_df['prognosis'])"
      ],
      "metadata": {
        "id": "Xy1NsCesOrza"
      },
      "execution_count": null,
      "outputs": []
    },
    {
      "cell_type": "code",
      "source": [
        "# Map the numerical value of the label to the prognosis\n",
        "prognosis_label_map = dict(zip(label.transform(label.classes_), label.classes_,))"
      ],
      "metadata": {
        "id": "Oyl1b_dxDRaM"
      },
      "execution_count": 42,
      "outputs": []
    },
    {
      "cell_type": "code",
      "source": [
        "# Train data\n",
        "X_train = train_df.drop(columns=['prognosis'])\n",
        "Y_train = train_df['prognosis']\n",
        "\n",
        "# Test data\n",
        "X_test = test_df.drop(columns='prognosis', axis=1)\n",
        "Y_test = test_df['prognosis']"
      ],
      "metadata": {
        "id": "rUdMvKsReRjN"
      },
      "execution_count": 27,
      "outputs": []
    },
    {
      "cell_type": "code",
      "source": [
        "# Train Random Forest Classifier model\n",
        "model = RandomForestClassifier(n_estimators=100, random_state=50)\n",
        "model.fit(X_train, Y_train)\n",
        "\n",
        "# Predict using testing data\n",
        "prediction_test = model.predict(X_test)\n",
        "\n",
        "# Output model accuracy\n",
        "print(\"Metrics = \", metrics.accuracy_score(Y_test, prediction_test))"
      ],
      "metadata": {
        "colab": {
          "base_uri": "https://localhost:8080/"
        },
        "id": "Ec0FxSc4h-qJ",
        "outputId": "5eb6abe4-cc87-431e-cd09-4c99066af540"
      },
      "execution_count": 29,
      "outputs": [
        {
          "output_type": "stream",
          "name": "stdout",
          "text": [
            "Metrics =  0.9761904761904762\n"
          ]
        }
      ]
    },
    {
      "cell_type": "code",
      "source": [
        "# Download model as pickle file\n",
        "pickle.dump(model, open('model.pkl', 'wb'))"
      ],
      "metadata": {
        "id": "ZNS1Jv1xGDQ4"
      },
      "execution_count": 52,
      "outputs": []
    }
  ]
}